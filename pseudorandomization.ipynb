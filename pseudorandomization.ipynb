{
 "cells": [
  {
   "cell_type": "markdown",
   "metadata": {},
   "source": [
    "## Pseudorandomization \n",
    "\n",
    "##### Khia Johnson\n",
    "--- \n",
    "This notebook walks you through generating pseudorandomized stimuli lists with some options for customization. Your stimuli should list should be formatted as an Excel or CSV file and have columns for `item` (i.e. filenames), `word` (word/nonword or T/F) and `group` (filler/target/etc.). It's okay if the names and order are different. One of the first things you'll do in this notebook is reformatting. Additional columns may be present and will remain unaffected. You will have the opportunity to rearrange and/or drop columns as needed.\n",
    "\n",
    "To use this code, follow the instructions as indicated and run each cell once. The output will be a number of csv files with pseudorandomized order, evenly split between two versions differing in which key response is the correct response. "
   ]
  },
  {
   "cell_type": "code",
   "execution_count": 1,
   "metadata": {},
   "outputs": [],
   "source": [
    "import pandas as pd\n",
    "import random\n",
    "from time import time"
   ]
  },
  {
   "cell_type": "markdown",
   "metadata": {},
   "source": [
    "**Import, inspect, and reformat your data**"
   ]
  },
  {
   "cell_type": "code",
   "execution_count": 2,
   "metadata": {},
   "outputs": [
    {
     "data": {
      "text/html": [
       "<div>\n",
       "<style scoped>\n",
       "    .dataframe tbody tr th:only-of-type {\n",
       "        vertical-align: middle;\n",
       "    }\n",
       "\n",
       "    .dataframe tbody tr th {\n",
       "        vertical-align: top;\n",
       "    }\n",
       "\n",
       "    .dataframe thead th {\n",
       "        text-align: right;\n",
       "    }\n",
       "</style>\n",
       "<table border=\"1\" class=\"dataframe\">\n",
       "  <thead>\n",
       "    <tr style=\"text-align: right;\">\n",
       "      <th></th>\n",
       "      <th>item</th>\n",
       "      <th>is_word</th>\n",
       "      <th>group</th>\n",
       "      <th>correct_key</th>\n",
       "      <th>path</th>\n",
       "    </tr>\n",
       "  </thead>\n",
       "  <tbody>\n",
       "    <tr>\n",
       "      <th>0</th>\n",
       "      <td>lou6deoi3.wav</td>\n",
       "      <td>Nonword</td>\n",
       "      <td>Filler</td>\n",
       "      <td>5</td>\n",
       "      <td>ExposureWords/lou6deoi3.wav</td>\n",
       "    </tr>\n",
       "    <tr>\n",
       "      <th>1</th>\n",
       "      <td>je6maan5.wav</td>\n",
       "      <td>Word</td>\n",
       "      <td>Filler</td>\n",
       "      <td>1</td>\n",
       "      <td>ExposureWords/je6maan5.wav</td>\n",
       "    </tr>\n",
       "    <tr>\n",
       "      <th>2</th>\n",
       "      <td>tou2daan6.wav</td>\n",
       "      <td>Nonword</td>\n",
       "      <td>Filler</td>\n",
       "      <td>5</td>\n",
       "      <td>ExposureWords/tou2daan6.wav</td>\n",
       "    </tr>\n",
       "  </tbody>\n",
       "</table>\n",
       "</div>"
      ],
      "text/plain": [
       "            item  is_word   group  correct_key                         path\n",
       "0  lou6deoi3.wav  Nonword  Filler            5  ExposureWords/lou6deoi3.wav\n",
       "1   je6maan5.wav     Word  Filler            1   ExposureWords/je6maan5.wav\n",
       "2  tou2daan6.wav  Nonword  Filler            5  ExposureWords/tou2daan6.wav"
      ]
     },
     "execution_count": 2,
     "metadata": {},
     "output_type": "execute_result"
    }
   ],
   "source": [
    "# Replace the value with the path to your data (csv or excel file)\n",
    "path_in = '/Users/khiajohnson/Speech-in-context_docs/CanPL/List.xlsx' \n",
    "\n",
    "# Import to a pandas dataframe\n",
    "if path_in.endswith('csv'):\n",
    "    stimuli = pd.read_csv(path_in, encoding='utf-8')\n",
    "else:\n",
    "    stimuli = pd.read_excel(path_in, encoding='utf-8')\n",
    "\n",
    "# Inspect the columns and top three rows of your data\n",
    "stimuli.head(n=3)"
   ]
  },
  {
   "cell_type": "code",
   "execution_count": 3,
   "metadata": {},
   "outputs": [
    {
     "data": {
      "text/html": [
       "<div>\n",
       "<style scoped>\n",
       "    .dataframe tbody tr th:only-of-type {\n",
       "        vertical-align: middle;\n",
       "    }\n",
       "\n",
       "    .dataframe tbody tr th {\n",
       "        vertical-align: top;\n",
       "    }\n",
       "\n",
       "    .dataframe thead th {\n",
       "        text-align: right;\n",
       "    }\n",
       "</style>\n",
       "<table border=\"1\" class=\"dataframe\">\n",
       "  <thead>\n",
       "    <tr style=\"text-align: right;\">\n",
       "      <th></th>\n",
       "      <th>item</th>\n",
       "      <th>group</th>\n",
       "      <th>word</th>\n",
       "    </tr>\n",
       "  </thead>\n",
       "  <tbody>\n",
       "    <tr>\n",
       "      <th>48</th>\n",
       "      <td>jam2feoi2_jam2seoi2011.wav</td>\n",
       "      <td>Scontrol</td>\n",
       "      <td>Word</td>\n",
       "    </tr>\n",
       "    <tr>\n",
       "      <th>74</th>\n",
       "      <td>jeng2tiu3.wav</td>\n",
       "      <td>Filler</td>\n",
       "      <td>Nonword</td>\n",
       "    </tr>\n",
       "    <tr>\n",
       "      <th>143</th>\n",
       "      <td>ngau4juk6.wav</td>\n",
       "      <td>Filler</td>\n",
       "      <td>Word</td>\n",
       "    </tr>\n",
       "  </tbody>\n",
       "</table>\n",
       "</div>"
      ],
      "text/plain": [
       "                           item     group     word\n",
       "48   jam2feoi2_jam2seoi2011.wav  Scontrol     Word\n",
       "74                jeng2tiu3.wav    Filler  Nonword\n",
       "143               ngau4juk6.wav    Filler     Word"
      ]
     },
     "execution_count": 3,
     "metadata": {},
     "output_type": "execute_result"
    }
   ],
   "source": [
    "# Rename columns here\n",
    "stimuli.rename(columns={'item':'item',\n",
    "                        'is_word':'word',\n",
    "                        'group':'group',\n",
    "                        # Add dict entries here\n",
    "                       }, inplace=True)    \n",
    "\n",
    "# List the columns you want to keep (in order) here\n",
    "stimuli = stimuli[['item','group','word']]\n",
    "\n",
    "# Inspect your dataframe again (this time a random sample of rows)\n",
    "stimuli.sample(n=3)"
   ]
  },
  {
   "cell_type": "markdown",
   "metadata": {},
   "source": [
    "**Set your variables for pseudorandomization here**"
   ]
  },
  {
   "cell_type": "code",
   "execution_count": 4,
   "metadata": {},
   "outputs": [],
   "source": [
    "# number of filler items at the beginning\n",
    "burn_in = 7 \n",
    "\n",
    "# minimum number of fillers between targets\n",
    "spacer = 2\n",
    "\n",
    "# How are fillers specified in the group column?\n",
    "filler = 'Filler' \n",
    "\n",
    "# How are words specified in the word column?\n",
    "word = 'Word'\n",
    "\n",
    "# Which are the two possible key responses?\n",
    "response_keys = [1,5] \n",
    "\n",
    "# How many pseudorandomizations would you like with these settings? \n",
    "number_of_lists = 10 \n",
    "\n",
    "# The directory where you want to save the new CSV files (if unspecified, defaults to current directory)\n",
    "dir_out = '' \n",
    "\n",
    "# The base for the output pseudorandomization filenames\n",
    "base = 'pseudrand'\n"
   ]
  },
  {
   "cell_type": "markdown",
   "metadata": {},
   "source": [
    "**The following cell contains functions needed for pseudorandomization. Don't change anything here, just run the cell!**"
   ]
  },
  {
   "cell_type": "code",
   "execution_count": 5,
   "metadata": {},
   "outputs": [],
   "source": [
    "# pseudorandomizes a pandas dataframe\n",
    "def gen_psuedorand(df):\n",
    "    start = time()\n",
    "    len_fillers = len(df.loc[df['group']==filler])\n",
    "    len_targets = len(df.loc[df['group']!=filler])\n",
    "    if len_fillers < burn_in + len_targets*spacer:\n",
    "        raise Error('Not enough fillers.')\n",
    "    \n",
    "    while True:\n",
    "        try:\n",
    "            to_fill = df.loc[df['group']==filler].sample(frac=1).to_dict('records')\n",
    "            targets = df.loc[df['group']!=filler].sample(frac=1).to_dict('records')\n",
    "            potential_indicies = list(range(burn_in, len(df)))\n",
    "            pseudorandom_indicies = []\n",
    "            while len(pseudorandom_indicies) < len(targets):\n",
    "                n = random.choice(potential_indicies)\n",
    "                pseudorandom_indicies.append(n)\n",
    "                for i in range(n-spacer, n+spacer+1):\n",
    "                    if i in potential_indicies:\n",
    "                        potential_indicies.remove(i)\n",
    "            pseudorandom_indicies.sort()\n",
    "            for i in pseudorandom_indicies:\n",
    "                to_fill.insert(i, targets.pop())\n",
    "            return pd.DataFrame(to_fill)\n",
    "            break\n",
    "        except:\n",
    "            if time()-start > 1:\n",
    "                break\n",
    "            else:\n",
    "                continue\n",
    "\n",
    "# set the correct response to the first option specified\n",
    "def set_cresp_v1(row):\n",
    "    if row['word']==word:\n",
    "        return response_keys[0]\n",
    "    else:\n",
    "        return response_keys[1]\n",
    "\n",
    "# set the correct response to the second option specified\n",
    "def set_cresp_v2(row):\n",
    "    if row['word']==word:\n",
    "        return response_keys[1]\n",
    "    else:\n",
    "        return response_keys[0]"
   ]
  },
  {
   "cell_type": "markdown",
   "metadata": {},
   "source": [
    "**Double check that you have the right settings. You can rereun any cells that you need to make revisions in.**"
   ]
  },
  {
   "cell_type": "code",
   "execution_count": 6,
   "metadata": {
    "scrolled": true
   },
   "outputs": [
    {
     "name": "stdout",
     "output_type": "stream",
     "text": [
      "pseudrand_v1_1.csv ✓\n",
      "pseudrand_v1_2.csv ✓\n",
      "pseudrand_v1_3.csv ✓\n",
      "pseudrand_v1_4.csv ✓\n",
      "pseudrand_v1_5.csv ✓\n",
      "pseudrand_v2_1.csv ✓\n",
      "pseudrand_v2_2.csv ✓\n",
      "pseudrand_v2_3.csv ✓\n",
      "pseudrand_v2_4.csv ✓\n",
      "pseudrand_v2_5.csv ✓\n"
     ]
    }
   ],
   "source": [
    "for i in range(int(number_of_lists/2)):\n",
    "    pseudorandomization = gen_psuedorand(stimuli)\n",
    "    pseudorandomization.apply(set_cresp_v1, axis=1)\n",
    "    current_filename = base + '_v1_'+ str(i+1) + '.csv'\n",
    "    pseudorandomization.to_csv(current_filename)\n",
    "    print(current_filename, '✓')\n",
    "        \n",
    "for i in range(int(number_of_lists/2)):\n",
    "    pseudorandomization = gen_psuedorand(stimuli)\n",
    "    pseudorandomization.apply(set_cresp_v2, axis=1)\n",
    "    current_filename = base + '_v2_'+ str(i+1) + '.csv'    \n",
    "    pseudorandomization.to_csv(current_filename)    \n",
    "    print(current_filename, '✓')\n"
   ]
  },
  {
   "cell_type": "code",
   "execution_count": null,
   "metadata": {},
   "outputs": [],
   "source": []
  }
 ],
 "metadata": {
  "kernelspec": {
   "display_name": "Python 3",
   "language": "python",
   "name": "python3"
  },
  "language_info": {
   "codemirror_mode": {
    "name": "ipython",
    "version": 3
   },
   "file_extension": ".py",
   "mimetype": "text/x-python",
   "name": "python",
   "nbconvert_exporter": "python",
   "pygments_lexer": "ipython3",
   "version": "3.7.4"
  }
 },
 "nbformat": 4,
 "nbformat_minor": 2
}
